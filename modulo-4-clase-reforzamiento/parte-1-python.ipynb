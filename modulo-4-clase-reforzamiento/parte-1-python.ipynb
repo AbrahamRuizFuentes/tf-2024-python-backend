{
 "cells": [
  {
   "cell_type": "markdown",
   "metadata": {},
   "source": [
    "## Python"
   ]
  },
  {
   "cell_type": "markdown",
   "metadata": {},
   "source": [
    "## Sintaxis Básica\n"
   ]
  },
  {
   "cell_type": "markdown",
   "metadata": {},
   "source": [
    "### Variables\n",
    "\n",
    "Las variables son contenedores para almacenar valores de datos."
   ]
  },
  {
   "cell_type": "code",
   "execution_count": 1,
   "metadata": {},
   "outputs": [],
   "source": [
    "a = 10\n",
    "b = 20"
   ]
  },
  {
   "cell_type": "markdown",
   "metadata": {},
   "source": [
    "Una sentencia es una expresión que ejecuta una acción. Por ejemplo una asignación o una operación. Un operador es un símbolo que representa una operación. Por ejemplo, el operador de suma es +."
   ]
  },
  {
   "cell_type": "code",
   "execution_count": 2,
   "metadata": {},
   "outputs": [
    {
     "name": "stdout",
     "output_type": "stream",
     "text": [
      "30\n"
     ]
    }
   ],
   "source": [
    "print(a+b)"
   ]
  },
  {
   "cell_type": "markdown",
   "metadata": {},
   "source": [
    "### Tipos de datos"
   ]
  },
  {
   "cell_type": "markdown",
   "metadata": {},
   "source": [
    "Python es un lenguaje de tipado dinámico, lo que significa que el tipo de una variable se determina en tiempo de ejecución. Soporta muchos tipos de datos, como enteros, flotantes, cadenas, booleanos, listas, diccionarios, etc."
   ]
  },
  {
   "cell_type": "code",
   "execution_count": 3,
   "metadata": {},
   "outputs": [],
   "source": [
    "entero = 10\n",
    "flotante = 10.5\n",
    "cadena = \"Hola\"\n",
    "booleano = True\n",
    "lista = [1, 2, 3]\n",
    "diccionario = {\"nombre\": \"Juan\", \"edad\": 20}\n"
   ]
  },
  {
   "cell_type": "markdown",
   "metadata": {},
   "source": [
    "podemos usar la función type para obtener el tipo de una variable."
   ]
  },
  {
   "cell_type": "code",
   "execution_count": 4,
   "metadata": {},
   "outputs": [
    {
     "name": "stdout",
     "output_type": "stream",
     "text": [
      "entero <class 'int'>\n",
      "flotante <class 'float'>\n",
      "cadena <class 'str'>\n",
      "booleano <class 'bool'>\n",
      "lista <class 'list'>\n",
      "diccionario <class 'dict'>\n"
     ]
    }
   ],
   "source": [
    "print(\"entero\", type(entero))\n",
    "print(\"flotante\", type(flotante))\n",
    "print(\"cadena\", type(cadena))\n",
    "print(\"booleano\", type(booleano))\n",
    "print(\"lista\", type(lista))\n",
    "print(\"diccionario\", type(diccionario))\n"
   ]
  },
  {
   "cell_type": "markdown",
   "metadata": {},
   "source": [
    "### Condicionales"
   ]
  },
  {
   "cell_type": "markdown",
   "metadata": {},
   "source": [
    "Las condicionales son estructuras de control que permiten ejecutar diferentes bloques de código en función de una condición."
   ]
  },
  {
   "cell_type": "code",
   "execution_count": 5,
   "metadata": {},
   "outputs": [
    {
     "name": "stdout",
     "output_type": "stream",
     "text": [
      "a es menor o igual que b\n"
     ]
    }
   ],
   "source": [
    "a = 10\n",
    "b = 20\n",
    "if a > b:\n",
    "    print(\"a es mayor que b\")\n",
    "else:\n",
    "    print(\"a es menor o igual que b\")\n"
   ]
  },
  {
   "cell_type": "markdown",
   "metadata": {},
   "source": [
    "Python soporta operadores de comparación, como ==, !=, >, <, >=, <=. También soporta operadores lógicos, como and, or, not."
   ]
  },
  {
   "cell_type": "code",
   "execution_count": 6,
   "metadata": {},
   "outputs": [],
   "source": [
    "a = 10\n",
    "b = 20\n",
    "c = 30\n",
    "if a > b and a < c:\n",
    "    print(\"a está entre b y c\")"
   ]
  },
  {
   "cell_type": "markdown",
   "metadata": {},
   "source": [
    "También soporta operadores ternarios, que son una forma concisa de escribir una condicional."
   ]
  },
  {
   "cell_type": "code",
   "execution_count": 7,
   "metadata": {},
   "outputs": [
    {
     "name": "stdout",
     "output_type": "stream",
     "text": [
      "a es menor o igual que b\n"
     ]
    }
   ],
   "source": [
    "a=10\n",
    "b=20\n",
    "print(\"a es mayor que b\" if a > b else \"a es menor o igual que b\")"
   ]
  },
  {
   "cell_type": "markdown",
   "metadata": {},
   "source": [
    "Un if puede tener múltiples elif y un else final. Tanto los elif como el else son opcionales. Los elif permiten evaluar múltiples condiciones."
   ]
  },
  {
   "cell_type": "code",
   "execution_count": 8,
   "metadata": {},
   "outputs": [
    {
     "name": "stdout",
     "output_type": "stream",
     "text": [
      "Hola Pedro\n"
     ]
    }
   ],
   "source": [
    "nombre = \"Pedro\"\n",
    "if nombre == \"Juan\":\n",
    "    print(\"Hola Juan\")\n",
    "elif nombre == \"Pedro\":\n",
    "    print(\"Hola Pedro\")\n",
    "else:\n",
    "    print(\"Hola desconocido\")"
   ]
  },
  {
   "cell_type": "markdown",
   "metadata": {},
   "source": [
    "### Bucles"
   ]
  },
  {
   "cell_type": "markdown",
   "metadata": {},
   "source": [
    "Los bucles son estructuras de control que permiten ejecutar un bloque de código repetidamente. Python soporta bucles for y while."
   ]
  },
  {
   "cell_type": "code",
   "execution_count": 9,
   "metadata": {},
   "outputs": [
    {
     "name": "stdout",
     "output_type": "stream",
     "text": [
      "0\n",
      "1\n",
      "2\n",
      "3\n",
      "4\n",
      "5\n",
      "6\n",
      "7\n",
      "8\n",
      "9\n"
     ]
    }
   ],
   "source": [
    "for i in range(10):\n",
    "    print(i)"
   ]
  },
  {
   "cell_type": "code",
   "execution_count": 10,
   "metadata": {},
   "outputs": [
    {
     "name": "stdout",
     "output_type": "stream",
     "text": [
      "0\n",
      "1\n",
      "2\n",
      "3\n",
      "4\n",
      "5\n",
      "6\n",
      "7\n",
      "8\n",
      "9\n"
     ]
    }
   ],
   "source": [
    "i = 0\n",
    "while i < 10:\n",
    "    print(i)\n",
    "    i += 1\n"
   ]
  },
  {
   "cell_type": "markdown",
   "metadata": {},
   "source": [
    "## Funciones"
   ]
  },
  {
   "cell_type": "markdown",
   "metadata": {},
   "source": [
    "Las funciones son bloques de código que pueden ser reutilizados. Python soporta funciones definidas por el usuario y funciones predefinidas."
   ]
  },
  {
   "cell_type": "code",
   "execution_count": 11,
   "metadata": {},
   "outputs": [
    {
     "name": "stdout",
     "output_type": "stream",
     "text": [
      "Hola Juan\n",
      "Hola Desconocido\n"
     ]
    }
   ],
   "source": [
    "def saludar(nombre=\"Desconocido\"):\n",
    "    print(\"Hola\", nombre)\n",
    "\n",
    "# invocamos la función saludar\n",
    "saludar(\"Juan\")\n",
    "\n",
    "# invocamos la función saludar sin pasarle ningún argumento\n",
    "saludar()\n"
   ]
  },
  {
   "cell_type": "markdown",
   "metadata": {},
   "source": [
    "**Parametros por referencia**: algunos tipos de datos son pasados por referencia, lo que significa que si modificamos el valor de la variable dentro de la función, el valor de la variable fuera de la función también se modifica."
   ]
  },
  {
   "cell_type": "code",
   "execution_count": 12,
   "metadata": {},
   "outputs": [
    {
     "name": "stdout",
     "output_type": "stream",
     "text": [
      "[1, 2, 3, 4]\n"
     ]
    }
   ],
   "source": [
    "def modificar_lista(lista):\n",
    "    lista.append(4)\n",
    "    return lista\n",
    "\n",
    "lista = [1, 2, 3]\n",
    "modificar_lista(lista)\n",
    "print(lista)"
   ]
  },
  {
   "cell_type": "markdown",
   "metadata": {},
   "source": [
    "**Retorno de valores**: una función puede retornar un valor usando la palabra clave return."
   ]
  },
  {
   "cell_type": "code",
   "execution_count": 13,
   "metadata": {},
   "outputs": [
    {
     "name": "stdout",
     "output_type": "stream",
     "text": [
      "3\n"
     ]
    }
   ],
   "source": [
    "def sumar(a, b):\n",
    "    return a + b\n",
    "\n",
    "resultado = sumar(1, 2)\n",
    "print(resultado)"
   ]
  },
  {
   "cell_type": "markdown",
   "metadata": {},
   "source": [
    "## Manejo de excepciones"
   ]
  },
  {
   "cell_type": "markdown",
   "metadata": {},
   "source": [
    "Las excepciones son errores que ocurren durante la ejecución de un programa. Python soporta manejo de excepciones usando la palabra clave try."
   ]
  },
  {
   "cell_type": "markdown",
   "metadata": {},
   "source": [
    "Las excepciones se manejan con la palabra clave except. Esta nos permite una excepción específica o una excepción general cuando no sabemos que excepción puede ocurrir."
   ]
  },
  {
   "cell_type": "code",
   "execution_count": 14,
   "metadata": {},
   "outputs": [
    {
     "name": "stdout",
     "output_type": "stream",
     "text": [
      "Error: división por cero\n"
     ]
    }
   ],
   "source": [
    "try:\n",
    "    a = 10\n",
    "    b = 0\n",
    "    print(a / b)\n",
    "except ZeroDivisionError:\n",
    "    print(\"Error: división por cero\")"
   ]
  },
  {
   "cell_type": "markdown",
   "metadata": {},
   "source": [
    "else nos permite ejecutar un bloque de código si no ocurre ninguna excepción."
   ]
  },
  {
   "cell_type": "code",
   "execution_count": 15,
   "metadata": {},
   "outputs": [
    {
     "name": "stdout",
     "output_type": "stream",
     "text": [
      "10.0\n",
      "No ocurrió ninguna excepción\n"
     ]
    }
   ],
   "source": [
    "try:\n",
    "    a = 10\n",
    "    b = 1\n",
    "    print(a / b)\n",
    "except ZeroDivisionError:\n",
    "    print(\"Error: división por cero\")\n",
    "else:\n",
    "    print(\"No ocurrió ninguna excepción\")"
   ]
  },
  {
   "cell_type": "markdown",
   "metadata": {},
   "source": [
    "finally nos permite ejecutar un bloque de código independientemente de si ocurre una excepción o no. Utilizamos finally para liberar recursos, cerrar archivos, etc."
   ]
  },
  {
   "cell_type": "code",
   "execution_count": 16,
   "metadata": {},
   "outputs": [
    {
     "name": "stdout",
     "output_type": "stream",
     "text": [
      "Error: división por cero\n",
      "Fin del bloque try\n"
     ]
    }
   ],
   "source": [
    "try:\n",
    "    a = 10\n",
    "    b = 0\n",
    "    print(a / b)\n",
    "except ZeroDivisionError:\n",
    "    print(\"Error: división por cero\")\n",
    "finally:\n",
    "    print(\"Fin del bloque try\")"
   ]
  },
  {
   "cell_type": "markdown",
   "metadata": {},
   "source": [
    "## Modulos y Paquetes"
   ]
  },
  {
   "cell_type": "markdown",
   "metadata": {},
   "source": [
    "Un modulo es un archivo que contiene código Python. Este se puede importar en otro archivo usando la palabra clave `import`."
   ]
  },
  {
   "cell_type": "markdown",
   "metadata": {},
   "source": [
    "```python\n",
    "# modulo/funciones.py\n",
    "def raiz_cuadrada(numero):\n",
    "    return numero ** 0.5\n",
    "```\n",
    "\n"
   ]
  },
  {
   "cell_type": "code",
   "execution_count": 17,
   "metadata": {},
   "outputs": [
    {
     "name": "stdout",
     "output_type": "stream",
     "text": [
      "4.0\n"
     ]
    }
   ],
   "source": [
    "from modulo.funciones import raiz_cuadrada\n",
    "\n",
    "print(raiz_cuadrada(16))\n"
   ]
  },
  {
   "cell_type": "markdown",
   "metadata": {},
   "source": [
    "Un paquete es una carpeta que contiene múltiples modulos. Para que Python reconozca una carpeta como un paquete, debe contener un archivo `__init__.py`."
   ]
  },
  {
   "cell_type": "code",
   "execution_count": 18,
   "metadata": {},
   "outputs": [
    {
     "name": "stdout",
     "output_type": "stream",
     "text": [
      "\u001b[01;34mmodulo\u001b[0m\n",
      "├── \u001b[00m__init__.py\u001b[0m\n",
      "├── \u001b[01;34m__pycache__\u001b[0m\n",
      "│   ├── \u001b[00m__init__.cpython-310.pyc\u001b[0m\n",
      "│   └── \u001b[00mfunciones.cpython-310.pyc\u001b[0m\n",
      "└── \u001b[00mfunciones.py\u001b[0m\n",
      "\n",
      "2 directories, 4 files\n"
     ]
    }
   ],
   "source": [
    "!tree modulo"
   ]
  },
  {
   "cell_type": "markdown",
   "metadata": {},
   "source": [
    "## Clases y Objetos"
   ]
  },
  {
   "cell_type": "markdown",
   "metadata": {},
   "source": [
    "Las clases son estructuras que definen objetos. Los objetos son instancias de una clase. Las clases se definen usando la palabra clave `class`. Las clases definine un metodo `__init__` que se ejecuta cuando se crea una instancia de la clase. Para crear una instancia de una clase se usa el nombre de la clase seguido de paréntesis."
   ]
  },
  {
   "cell_type": "markdown",
   "metadata": {},
   "source": [
    "Una clase puede tener métodos y atributos. Los métodos son funciones que se definen dentro de una clase. Los atributos son variables que se definen dentro de una clase."
   ]
  },
  {
   "cell_type": "code",
   "execution_count": 19,
   "metadata": {},
   "outputs": [
    {
     "name": "stdout",
     "output_type": "stream",
     "text": [
      "Hola, me llamo Juan\n"
     ]
    }
   ],
   "source": [
    "class Persona:\n",
    "    def __init__(self, nombre, edad):\n",
    "        self.nombre = nombre\n",
    "        self.edad = edad\n",
    "\n",
    "    def saludar(self):\n",
    "        print(\"Hola, me llamo\", self.nombre)\n",
    "\n",
    "persona = Persona(\"Juan\", 20)\n",
    "persona.saludar()"
   ]
  },
  {
   "cell_type": "markdown",
   "metadata": {},
   "source": [
    "Podemos usar la palabra clave `self` para referirnos a la instancia de la clase. `self` es una referencia a la instancia actual de la clase. Los metodos de una clase reciben `self` como primer argumento."
   ]
  },
  {
   "cell_type": "markdown",
   "metadata": {},
   "source": [
    "Las clases pueden heredar de otras clases. La herencia es una forma de reutilizar código. Una clase puede heredar de otra clase indicando el nombre de la clase padre entre paréntesis después del nombre de la clase en su definición."
   ]
  },
  {
   "cell_type": "code",
   "execution_count": 20,
   "metadata": {},
   "outputs": [
    {
     "name": "stdout",
     "output_type": "stream",
     "text": [
      "Mi sueldo es 1000\n"
     ]
    }
   ],
   "source": [
    "class Empleado(Persona):\n",
    "    def __init__(self, nombre, edad, sueldo):\n",
    "        super().__init__(nombre, edad)\n",
    "        self.sueldo = sueldo\n",
    "\n",
    "    def mostrar_sueldo(self):\n",
    "        print(\"Mi sueldo es\", self.sueldo)\n",
    "\n",
    "empleado = Empleado(\"Juan\", 20, 1000)\n",
    "empleado.mostrar_sueldo()"
   ]
  },
  {
   "cell_type": "markdown",
   "metadata": {},
   "source": [
    "El metodo `super()` se usa para llamar al método de la clase padre. La clase hija hereda los atributos y métodos de la clase padre. También puede sobreescribir métodos de la clase padre."
   ]
  },
  {
   "cell_type": "markdown",
   "metadata": {},
   "source": [
    "## Estructuras de Datos"
   ]
  },
  {
   "cell_type": "markdown",
   "metadata": {},
   "source": [
    "Python soporta muchas estructuras de datos, como listas, diccionarios, conjuntos, etc."
   ]
  },
  {
   "cell_type": "code",
   "execution_count": 21,
   "metadata": {},
   "outputs": [],
   "source": [
    "lista = [1, 2, 3]\n",
    "tupla = (1, 2, 3)\n",
    "diccionario = {\"nombre\": \"Juan\", \"edad\": 20}\n",
    "conjunto = {1, 2, 3}"
   ]
  },
  {
   "cell_type": "markdown",
   "metadata": {},
   "source": [
    "Las listas soportan métodos como `append`, `insert`, `remove`, `sort`, `reverse`, etc."
   ]
  },
  {
   "cell_type": "code",
   "execution_count": 22,
   "metadata": {},
   "outputs": [
    {
     "name": "stdout",
     "output_type": "stream",
     "text": [
      "[1, 2, 3, 4]\n",
      "[1, 2, 3, 4]\n",
      "[4, 3, 2, 1]\n",
      "[0, 4, 3, 2, 1]\n",
      "[4, 3, 2, 1]\n"
     ]
    }
   ],
   "source": [
    "lista.append(4)\n",
    "print(lista)\n",
    "\n",
    "lista.sort()\n",
    "print(lista)\n",
    "\n",
    "lista.reverse()\n",
    "print(lista)\n",
    "\n",
    "lista.insert(0, 0)\n",
    "print(lista)\n",
    "\n",
    "lista.remove(0)\n",
    "print(lista)"
   ]
  },
  {
   "cell_type": "markdown",
   "metadata": {},
   "source": [
    "También podemos acceder a los elementos de una lista usando indices."
   ]
  },
  {
   "cell_type": "code",
   "execution_count": 23,
   "metadata": {},
   "outputs": [
    {
     "name": "stdout",
     "output_type": "stream",
     "text": [
      "4\n",
      "1\n"
     ]
    }
   ],
   "source": [
    "print(lista[0])\n",
    "print(lista[-1])"
   ]
  },
  {
   "cell_type": "markdown",
   "metadata": {},
   "source": [
    "Los diccionarios soportan métodos como `keys`, `values`, `items`, `get`, `update`, `pop`, etc."
   ]
  },
  {
   "cell_type": "code",
   "execution_count": 24,
   "metadata": {},
   "outputs": [
    {
     "name": "stdout",
     "output_type": "stream",
     "text": [
      "keys dict_keys(['nombre', 'edad'])\n",
      "values dict_values(['Juan', 20])\n",
      "items dict_items([('nombre', 'Juan'), ('edad', 20)])\n",
      "get Juan\n",
      "update {'nombre': 'Pedro', 'edad': 20}\n",
      "pop {'edad': 20}\n"
     ]
    }
   ],
   "source": [
    "diccionario = {\"nombre\": \"Juan\", \"edad\": 20}\n",
    "\n",
    "print(\"keys\", diccionario.keys())\n",
    "print(\"values\", diccionario.values())\n",
    "print(\"items\", diccionario.items())\n",
    "\n",
    "print(\"get\", diccionario.get(\"nombre\"))\n",
    "diccionario.update({\"nombre\": \"Pedro\"})\n",
    "print(\"update\", diccionario)\n",
    "diccionario.pop(\"nombre\")\n",
    "print(\"pop\", diccionario)\n"
   ]
  },
  {
   "cell_type": "markdown",
   "metadata": {},
   "source": [
    "Las tuplas son estructuras de datos que son similares a las listas, pero son inmutables. Esto quiere decir que una vez que se crea una tupla, no se puede modificar."
   ]
  },
  {
   "cell_type": "markdown",
   "metadata": {},
   "source": [
    "Los conjuntos son estructuras de datos que son similares a las listas, pero no permiten duplicados. Los conjuntos no tienen un orden."
   ]
  },
  {
   "cell_type": "markdown",
   "metadata": {},
   "source": []
  }
 ],
 "metadata": {
  "kernelspec": {
   "display_name": ".venv",
   "language": "python",
   "name": "python3"
  },
  "language_info": {
   "codemirror_mode": {
    "name": "ipython",
    "version": 3
   },
   "file_extension": ".py",
   "mimetype": "text/x-python",
   "name": "python",
   "nbconvert_exporter": "python",
   "pygments_lexer": "ipython3",
   "version": "3.10.11"
  }
 },
 "nbformat": 4,
 "nbformat_minor": 2
}
