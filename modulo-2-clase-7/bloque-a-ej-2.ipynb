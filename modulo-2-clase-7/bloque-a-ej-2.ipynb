{
 "cells": [
  {
   "cell_type": "code",
   "execution_count": 1,
   "metadata": {},
   "outputs": [],
   "source": [
    "import pandas as pd"
   ]
  },
  {
   "cell_type": "code",
   "execution_count": 2,
   "metadata": {},
   "outputs": [],
   "source": [
    "data = {\n",
    "    'Nombre': ['Ana', 'Maria', 'Sofía', 'Luisa', 'Josefa'],\n",
    "    'Rut': ['2446500-1', '12181181-2', '11004663-4', '13940675-3', '17027199-8'],\n",
    "    'Edad': [22, 35, 12, 32, 45],\n",
    "    'Altura': [1.6, 1.7, 1.6, 1.7, 1.6],\n",
    "    'Peso': [65, 42, 64, 74, 62]\n",
    "}\n",
    "df = pd.DataFrame(data)"
   ]
  },
  {
   "cell_type": "markdown",
   "metadata": {},
   "source": [
    "creación de nuevas columnas"
   ]
  },
  {
   "cell_type": "code",
   "execution_count": 3,
   "metadata": {},
   "outputs": [],
   "source": [
    "# Crea la columna 'Rut estandarizado'\n",
    "# sin guión ni digito verificador\n",
    "# agrega ceros a la derecha si tiene menos de 8 digitos\n",
    "df['Rut estandarizado'] = df['Rut'].apply(lambda x: x.split('-')[0].replace('.','').zfill(8))\n",
    "\n",
    "# Crea la columna 'Dígito verificador'\n",
    "df['Digito verificador'] = df['Rut'].apply(lambda x: x.split('-')[1])\n",
    "\n",
    "# Calculo el Índice de Masa Corporal (IMC)\n",
    "df['IMC'] = df['Peso'] / (df['Altura'] ** 2)\n",
    "\n",
    "# Crear la columna 'Clasificación de edad'\n",
    "def clasificar_edad(edad):\n",
    "    if edad > 60:\n",
    "        return 'Mayor de 60 años'\n",
    "    elif edad > 30:\n",
    "        return 'Mayor de 30 años'\n",
    "    else:\n",
    "        return 'Menor de 30 años'\n",
    "df['Clasificación de edad'] = df['Edad'].apply(clasificar_edad)"
   ]
  },
  {
   "cell_type": "markdown",
   "metadata": {},
   "source": [
    "DataFrame con nuevas columnas:"
   ]
  },
  {
   "cell_type": "code",
   "execution_count": 4,
   "metadata": {},
   "outputs": [
    {
     "data": {
      "text/html": [
       "<div>\n",
       "<style scoped>\n",
       "    .dataframe tbody tr th:only-of-type {\n",
       "        vertical-align: middle;\n",
       "    }\n",
       "\n",
       "    .dataframe tbody tr th {\n",
       "        vertical-align: top;\n",
       "    }\n",
       "\n",
       "    .dataframe thead th {\n",
       "        text-align: right;\n",
       "    }\n",
       "</style>\n",
       "<table border=\"1\" class=\"dataframe\">\n",
       "  <thead>\n",
       "    <tr style=\"text-align: right;\">\n",
       "      <th></th>\n",
       "      <th>Nombre</th>\n",
       "      <th>Rut</th>\n",
       "      <th>Edad</th>\n",
       "      <th>Altura</th>\n",
       "      <th>Peso</th>\n",
       "      <th>Rut estandarizado</th>\n",
       "      <th>Digito verificador</th>\n",
       "      <th>IMC</th>\n",
       "      <th>Clasificación de edad</th>\n",
       "    </tr>\n",
       "  </thead>\n",
       "  <tbody>\n",
       "    <tr>\n",
       "      <th>0</th>\n",
       "      <td>Ana</td>\n",
       "      <td>2446500-1</td>\n",
       "      <td>22</td>\n",
       "      <td>1.6</td>\n",
       "      <td>65</td>\n",
       "      <td>02446500</td>\n",
       "      <td>1</td>\n",
       "      <td>25.390625</td>\n",
       "      <td>Menor de 30 años</td>\n",
       "    </tr>\n",
       "    <tr>\n",
       "      <th>1</th>\n",
       "      <td>Maria</td>\n",
       "      <td>12181181-2</td>\n",
       "      <td>35</td>\n",
       "      <td>1.7</td>\n",
       "      <td>42</td>\n",
       "      <td>12181181</td>\n",
       "      <td>2</td>\n",
       "      <td>14.532872</td>\n",
       "      <td>Mayor de 30 años</td>\n",
       "    </tr>\n",
       "    <tr>\n",
       "      <th>2</th>\n",
       "      <td>Sofía</td>\n",
       "      <td>11004663-4</td>\n",
       "      <td>12</td>\n",
       "      <td>1.6</td>\n",
       "      <td>64</td>\n",
       "      <td>11004663</td>\n",
       "      <td>4</td>\n",
       "      <td>25.000000</td>\n",
       "      <td>Menor de 30 años</td>\n",
       "    </tr>\n",
       "    <tr>\n",
       "      <th>3</th>\n",
       "      <td>Luisa</td>\n",
       "      <td>13940675-3</td>\n",
       "      <td>32</td>\n",
       "      <td>1.7</td>\n",
       "      <td>74</td>\n",
       "      <td>13940675</td>\n",
       "      <td>3</td>\n",
       "      <td>25.605536</td>\n",
       "      <td>Mayor de 30 años</td>\n",
       "    </tr>\n",
       "    <tr>\n",
       "      <th>4</th>\n",
       "      <td>Josefa</td>\n",
       "      <td>17027199-8</td>\n",
       "      <td>45</td>\n",
       "      <td>1.6</td>\n",
       "      <td>62</td>\n",
       "      <td>17027199</td>\n",
       "      <td>8</td>\n",
       "      <td>24.218750</td>\n",
       "      <td>Mayor de 30 años</td>\n",
       "    </tr>\n",
       "  </tbody>\n",
       "</table>\n",
       "</div>"
      ],
      "text/plain": [
       "   Nombre         Rut  Edad  Altura  Peso Rut estandarizado  \\\n",
       "0     Ana   2446500-1    22     1.6    65          02446500   \n",
       "1   Maria  12181181-2    35     1.7    42          12181181   \n",
       "2   Sofía  11004663-4    12     1.6    64          11004663   \n",
       "3   Luisa  13940675-3    32     1.7    74          13940675   \n",
       "4  Josefa  17027199-8    45     1.6    62          17027199   \n",
       "\n",
       "  Digito verificador        IMC Clasificación de edad  \n",
       "0                  1  25.390625      Menor de 30 años  \n",
       "1                  2  14.532872      Mayor de 30 años  \n",
       "2                  4  25.000000      Menor de 30 años  \n",
       "3                  3  25.605536      Mayor de 30 años  \n",
       "4                  8  24.218750      Mayor de 30 años  "
      ]
     },
     "execution_count": 4,
     "metadata": {},
     "output_type": "execute_result"
    }
   ],
   "source": [
    "df.head()"
   ]
  },
  {
   "cell_type": "code",
   "execution_count": null,
   "metadata": {},
   "outputs": [],
   "source": []
  }
 ],
 "metadata": {
  "kernelspec": {
   "display_name": ".venv",
   "language": "python",
   "name": "python3"
  },
  "language_info": {
   "codemirror_mode": {
    "name": "ipython",
    "version": 3
   },
   "file_extension": ".py",
   "mimetype": "text/x-python",
   "name": "python",
   "nbconvert_exporter": "python",
   "pygments_lexer": "ipython3",
   "version": "3.10.14"
  }
 },
 "nbformat": 4,
 "nbformat_minor": 2
}
